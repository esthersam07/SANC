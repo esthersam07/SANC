{
  "nbformat": 4,
  "nbformat_minor": 0,
  "metadata": {
    "colab": {
      "provenance": [],
      "authorship_tag": "ABX9TyM2zi6+ootVm+9Yx0oPZCq7"
    },
    "kernelspec": {
      "name": "python3",
      "display_name": "Python 3"
    },
    "language_info": {
      "name": "python"
    }
  },
  "cells": [
    {
      "cell_type": "code",
      "execution_count": 2,
      "metadata": {
        "colab": {
          "base_uri": "https://localhost:8080/"
        },
        "id": "Sb_fqn-86Mhh",
        "outputId": "bb852dab-3e4b-4a1f-e552-0a4c3e73020d"
      },
      "outputs": [
        {
          "output_type": "stream",
          "name": "stdout",
          "text": [
            "Requirement already satisfied: requests in /usr/local/lib/python3.10/dist-packages (2.32.3)\n",
            "Requirement already satisfied: charset-normalizer<4,>=2 in /usr/local/lib/python3.10/dist-packages (from requests) (3.4.0)\n",
            "Requirement already satisfied: idna<4,>=2.5 in /usr/local/lib/python3.10/dist-packages (from requests) (3.10)\n",
            "Requirement already satisfied: urllib3<3,>=1.21.1 in /usr/local/lib/python3.10/dist-packages (from requests) (2.2.3)\n",
            "Requirement already satisfied: certifi>=2017.4.17 in /usr/local/lib/python3.10/dist-packages (from requests) (2024.8.30)\n"
          ]
        }
      ],
      "source": [
        "!pip install requests"
      ]
    },
    {
      "cell_type": "code",
      "source": [
        "!pip install bs4"
      ],
      "metadata": {
        "colab": {
          "base_uri": "https://localhost:8080/"
        },
        "id": "J4FLH8Lj6jNk",
        "outputId": "11889081-fb0d-4347-bc3b-859bfed8de01"
      },
      "execution_count": 3,
      "outputs": [
        {
          "output_type": "stream",
          "name": "stdout",
          "text": [
            "Collecting bs4\n",
            "  Downloading bs4-0.0.2-py2.py3-none-any.whl.metadata (411 bytes)\n",
            "Requirement already satisfied: beautifulsoup4 in /usr/local/lib/python3.10/dist-packages (from bs4) (4.12.3)\n",
            "Requirement already satisfied: soupsieve>1.2 in /usr/local/lib/python3.10/dist-packages (from beautifulsoup4->bs4) (2.6)\n",
            "Downloading bs4-0.0.2-py2.py3-none-any.whl (1.2 kB)\n",
            "Installing collected packages: bs4\n",
            "Successfully installed bs4-0.0.2\n"
          ]
        }
      ]
    },
    {
      "cell_type": "code",
      "source": [
        "!pip install urllib3"
      ],
      "metadata": {
        "colab": {
          "base_uri": "https://localhost:8080/"
        },
        "id": "Z6PXMOU_6o29",
        "outputId": "969cbd12-bb15-434b-fb3b-9bf594a10492"
      },
      "execution_count": 4,
      "outputs": [
        {
          "output_type": "stream",
          "name": "stdout",
          "text": [
            "Requirement already satisfied: urllib3 in /usr/local/lib/python3.10/dist-packages (2.2.3)\n"
          ]
        }
      ]
    },
    {
      "cell_type": "code",
      "source": [
        "!pip install html5lib"
      ],
      "metadata": {
        "colab": {
          "base_uri": "https://localhost:8080/"
        },
        "id": "_8Qb8VSg7hJ1",
        "outputId": "5e32136d-9725-485e-cccd-ff88cc633b73"
      },
      "execution_count": 5,
      "outputs": [
        {
          "output_type": "stream",
          "name": "stdout",
          "text": [
            "Requirement already satisfied: html5lib in /usr/local/lib/python3.10/dist-packages (1.1)\n",
            "Requirement already satisfied: six>=1.9 in /usr/local/lib/python3.10/dist-packages (from html5lib) (1.16.0)\n",
            "Requirement already satisfied: webencodings in /usr/local/lib/python3.10/dist-packages (from html5lib) (0.5.1)\n"
          ]
        }
      ]
    },
    {
      "cell_type": "code",
      "source": [
        "import time\n",
        "from urllib.request import Request, urlopen\n",
        "from bs4 import BeautifulSoup\n",
        "import requests\n",
        "import csv\n",
        "from urllib.error import HTTPError\n",
        "\n",
        "\n",
        "root = \"https://www.google.com/\"\n",
        "link = \"https://www.google.com/search?q=elon+musk&sca_esv=27dc6454a5630b7b&rlz=1C1CHBD_enIN1035IN1035&tbm=nws&source=lnt&tbs=qdr:y&sa=X&ved=2ahUKEwit_LWz9NmJAxX_4zQHHZVjAVsQpwV6BAgDEAs&biw=1280&bih=585&dpr=1.5\"\n",
        "\n",
        "def news(link):\n",
        "  try:\n",
        "    req = Request(link,headers={'User-Agent':'Mozilla/5.0'})\n",
        "    webpage = urlopen(req).read()\n",
        "    with requests.Session() as c:\n",
        "      soup = BeautifulSoup(webpage,'html5lib')\n",
        "      #print(soup)\n",
        "      for item in soup.find_all('div',attrs={'class':'Gx5Zad xpd EtOod pkphOe'}):\n",
        "\n",
        "        raw_link = (item.find('a',href=True)['href'])\n",
        "        link = raw_link.split(\"/url?q=\")[1]\n",
        "        '''some links don't work bcoz of unecessary part in url. The part is that comes after &sa='''\n",
        "        cor_link = link.split(\"&sa=U&\")[0]\n",
        "        print(cor_link)\n",
        "\n",
        "        '''getting title(headline) from each article'''\n",
        "        title = (item.find('div',attrs={'BNeawe vvjwJb AP7Wnd'}).get_text())\n",
        "        title = title.replace(\",\",\"\")\n",
        "        print(title)\n",
        "\n",
        "        '''getting the description'''\n",
        "        desc = (item.find('div',attrs={'BNeawe s3v9rd AP7Wnd'}).get_text())\n",
        "        desc = desc.replace(\",\",\"\")\n",
        "        parts = desc.rsplit('.', 1)\n",
        "        if len(parts) == 2:\n",
        "          desc = parts[0]\n",
        "          t = parts[1]\n",
        "        else:\n",
        "          desc = desc\n",
        "          t = \"\"\n",
        "        print(desc)\n",
        "        print(t)\n",
        "\n",
        "\n",
        "        '''writing link,title,desc, time into a csv file'''\n",
        "        document = open(\"data.csv\",\"a\")\n",
        "        document.write(\"{}, {}, {}, {} \\n\".format(title,t,desc,link))\n",
        "        document.close()\n",
        "\n",
        "      time.sleep(2)\n",
        "      next = soup.find('a',attrs={'class':'nBDE1b G5eFlf'})\n",
        "      next = (next['href'])\n",
        "      link = root+next\n",
        "      news(link)\n",
        "  except HTTPError as e:\n",
        "    if e.code == 429:\n",
        "      print(\"Received HTTP 429: Too Many Requests. Waiting before retrying...\")\n",
        "      time.sleep(5)  # Wait for 1 minute or longer before retrying\n",
        "      news(link)\n",
        "    else:\n",
        "      raise\n",
        "news(link)"
      ],
      "metadata": {
        "colab": {
          "base_uri": "https://localhost:8080/",
          "height": 1000
        },
        "id": "In48ASnN6tXc",
        "outputId": "842f6611-dc86-4883-ffe0-e9c8ffb5c47b",
        "collapsed": true
      },
      "execution_count": 9,
      "outputs": [
        {
          "output_type": "stream",
          "name": "stdout",
          "text": [
            "https://www.nytimes.com/2024/10/20/us/politics/elon-musk-federal-agencies-contracts.html\n",
            "U.S. Agencies Fund and Fight With Elon Musk. A Trump Presidency Could Give Him Power Over Them.\n",
            "The New York Times has compiled an accounting of Mr. Musk's multipronged business arrangements with the federal government\n",
            "3 weeks ago\n",
            "https://www.nbcnews.com/tech/tech-news/elon-musk-trump-donald-mar-a-lago-appointment-position-rcna179826\n",
            "Elon Musk may already be overstaying his welcome in Trump's orbit\n",
            "Sources said that Musk's near-constant presence at Mar-a-Lago in the week since Election Day had begun to wear on people who've been in Trump's inner..\n",
            "1 day ago\n",
            "https://www.cnn.com/2024/10/20/politics/elon-musk-voter-giveaway-legal-questions/index.html\n",
            "Elon Musk’s daily $1 million giveaway to registered voters could be illegal experts say\n",
            "While stumping for former President Donald Trump on Saturday tech billionaire Elon Musk announced that he will give away $1 million each day to registered..\n",
            "3 weeks ago\n",
            "https://www.theguardian.com/media/2024/nov/13/why-the-guardian-is-no-longer-posting-on-x\n",
            "Why the Guardian is no longer posting on X\n",
            "We will stop posting from our official editorial accounts on the platform but X users can still share our articles\n",
            "1 day ago\n",
            "https://www.washingtonpost.com/business/2024/10/29/elon-musk-2-trillion-budget-cuts-trump-election/\n",
            "Musk’s plan to cut $2 trillion in U.S. spending could bring economic turmoil\n",
            "Deep budget cuts would be required to meet the billionaire Trump supporter's goal. He appeared to acknowledge some risks on Tuesday. 7 min. Elon Musk at..\n",
            "2 weeks ago\n",
            "https://www.wsj.com/politics/elections/elon-musk-has-said-he-is-committing-around-45-million-a-month-to-a-new-pro-trump-super-pac-dda53823\n",
            "Exclusive | Elon Musk Has Said He Is Committing Around $45 Million a Month to a New Pro-Trump Super PAC\n",
            "Other backers of America PAC include Palantir Technologies co-founder Joe Lonsdale and the Winklevoss twins ... Elon Musk has said he plans to commit around $45..\n",
            "3 months ago\n",
            "https://www.npr.org/2024/07/24/nx-s1-5049715/elon-musk-donald-trump-tesla\n",
            "Elon Musk is backing Donald Trump. Could that hurt Tesla?\n",
            "Tesla CEO Elon Musk applauds as Israeli Prime..\n",
            "3 months ago\n",
            "https://www.pbs.org/newshour/show/whats-behind-elon-musks-massive-effort-to-elect-trump\n",
            "What's behind Elon Musk's massive effort to elect Trump\n",
            "The world's richest man Elon Musk is now a powerful mega donor for Donald Trump. Musk is using his vast resources to campaign for him in Pennsylvania and..\n",
            "3 weeks ago\n",
            "https://apnews.com/article/elon-musk-x-election-voting-trump-misinformation-3479f2348f6ec47ce641ddf20fd6ce4e\n",
            "Elon Musk has often inflamed politically tense moments raising worries for the US election\n",
            "As Election Day draws nearer social media posts by X owner Elon Musk are raising concerns that he will use his immense platform to question the legitimacy..\n",
            "1 month ago\n",
            "https://www.reuters.com/world/us/trump-adopt-musks-proposal-government-efficiency-commission-wsj-reports-2024-09-05/\n",
            "Trump says he will tap Musk to lead government efficiency commission if elected\n",
            "NEW YORK Sept 5 (Reuters) - Republican presidential candidate Donald Trump said on Thursday he would establish a government efficiency commission headed by..\n",
            "2 months ago\n",
            "https://www.theatlantic.com/books/archive/2024/10/donald-trump-is-elon-musks-trojan-horse/680309/\n",
            "What Elon Musk Really Wants\n",
            "In Elon Musk's vision of human history Donald Trump is the singularity. If Musk can propel Trump back to the White House it will mark the moment that his own..\n",
            "4 weeks ago\n",
            "https://www.nytimes.com/2024/11/13/us/politics/musk-trump-transition-mar-a-lago.html\n",
            "At Mar-a-Lago ‘Uncle’ Elon Musk Puts His Imprint on the Trump Transition\n",
            "He's on the patio. He's on the golf course. Everywhere Donald Trump looks there is the world's richest man\n",
            "1 day ago\n",
            "https://www.cnn.com/2024/10/23/politics/elon-musk-justice-department-letter/index.html\n",
            "Justice Department warns Elon Musk that his $1 million giveaway to registered voters may be illegal\n",
            "The Justice Department warned Elon Musk's America PAC in recent days that his $1 million sweepstakes to registered voters in swing states may violate..\n",
            "3 weeks ago\n",
            "https://www.npr.org/2024/10/16/g-s1-28591/elon-musk-donald-trump-america-pac-fec\n",
            "Elon Musk has given $75 million so far to put Donald Trump back in the White House\n",
            "Elon Musk is among the largest financial supporters of Donald Trump's reelection efforts new FEC filings show. He and two other megadonors collectively..\n",
            "1 month ago\n",
            "https://www.nbcnews.com/tech/tech-news/elon-musk-trump-endorses-pac-administration-cabinet-connection-rcna178549\n",
            "Elon Musk could be the biggest winner of a second Trump term\n",
            "Elon Musk could reap numerous benefits from a friendly government run by Donald Trump\n",
            "1 week ago\n",
            "https://www.cnn.com/2024/11/06/business/elon-musk-election-bet/index.html\n",
            "Elon Musk bet big on Trump. Here’s what he stands to gain — and lose — from his win\n",
            "No single business leader did more to support former President Donald Trump's candidacy than Elon Musk. But the billionaire and his business empire face..\n",
            "1 week ago\n",
            "https://www.npr.org/2024/10/22/nx-s1-5156184/elon-musk-trump-election-x-twitter\n",
            "2 years in Trump surrogate Elon Musk has remade X as a conservative megaphone\n",
            "It's been nearly two years since Elon Musk bought Twitter and turned it into X. He has turned the platform into a megaphone for himself and increasingly..\n",
            "3 weeks ago\n",
            "https://www.cnn.com/2024/11/10/politics/musk-trump-influence-transition/index.html\n",
            "Elon Musk exerts deepening influence on Donald Trump’s presidential transition\n",
            "Donald Trump's Mar-a-Lago club has been brimming in the last 48 hours with two kinds of people: those angling for a job in the president-elect's incoming..\n",
            "3 days ago\n",
            "https://www.cnn.com/2024/08/13/tech/elon-musk-donald-trump-x/index.html\n",
            "How Elon Musk has turned X into a pro-Trump machine\n",
            "Nearly two years after Elon Musk bought Twitter and turned it into X the billionaire is leveraging its power as a source of real-time news for millions of..\n",
            "3 months ago\n",
            "https://www.cnn.com/2024/10/17/media/elon-musk-dominion-voting-misinformation/index.html\n",
            "Elon Musk peddles debunked 2020 election conspiracies at first solo town hall supporting Trump\n",
            "Elon Musk promoted several debunked conspiracy theories about the 2020 election during his first solo town hall Thursday in Pennsylvania as he urged voters..\n",
            "1 month ago\n",
            "https://www.nytimes.com/2024/10/20/us/politics/elon-musk-federal-agencies-contracts.html\n",
            "U.S. Agencies Fund and Fight With Elon Musk. A Trump Presidency Could Give Him Power Over Them.\n",
            "The New York Times has compiled an accounting of Mr. Musk's multipronged business arrangements with the federal government\n",
            "3 weeks ago\n",
            "https://www.nbcnews.com/tech/tech-news/elon-musk-trump-donald-mar-a-lago-appointment-position-rcna179826\n",
            "Elon Musk may already be overstaying his welcome in Trump's orbit\n",
            "Sources said that Musk's near-constant presence at Mar-a-Lago in the week since Election Day had begun to wear on people who've been in Trump's inner..\n",
            "1 day ago\n",
            "https://www.cnn.com/2024/10/20/politics/elon-musk-voter-giveaway-legal-questions/index.html\n",
            "Elon Musk’s daily $1 million giveaway to registered voters could be illegal experts say\n",
            "While stumping for former President Donald Trump on Saturday tech billionaire Elon Musk announced that he will give away $1 million each day to registered..\n",
            "3 weeks ago\n",
            "https://www.theguardian.com/media/2024/nov/13/why-the-guardian-is-no-longer-posting-on-x\n",
            "Why the Guardian is no longer posting on X\n",
            "We will stop posting from our official editorial accounts on the platform but X users can still share our articles\n",
            "1 day ago\n",
            "https://www.washingtonpost.com/business/2024/10/29/elon-musk-2-trillion-budget-cuts-trump-election/\n",
            "Musk’s plan to cut $2 trillion in U.S. spending could bring economic turmoil\n",
            "Deep budget cuts would be required to meet the billionaire Trump supporter's goal. He appeared to acknowledge some risks on Tuesday. 7 min. Elon Musk at..\n",
            "2 weeks ago\n",
            "https://www.wsj.com/politics/elections/elon-musk-has-said-he-is-committing-around-45-million-a-month-to-a-new-pro-trump-super-pac-dda53823\n",
            "Exclusive | Elon Musk Has Said He Is Committing Around $45 Million a Month to a New Pro-Trump Super PAC\n",
            "Other backers of America PAC include Palantir Technologies co-founder Joe Lonsdale and the Winklevoss twins ... Elon Musk has said he plans to commit around $45..\n",
            "3 months ago\n",
            "https://www.npr.org/2024/07/24/nx-s1-5049715/elon-musk-donald-trump-tesla\n",
            "Elon Musk is backing Donald Trump. Could that hurt Tesla?\n",
            "Tesla CEO Elon Musk applauds as Israeli Prime..\n",
            "3 months ago\n",
            "https://www.pbs.org/newshour/show/whats-behind-elon-musks-massive-effort-to-elect-trump\n",
            "What's behind Elon Musk's massive effort to elect Trump\n",
            "The world's richest man Elon Musk is now a powerful mega donor for Donald Trump. Musk is using his vast resources to campaign for him in Pennsylvania and..\n",
            "3 weeks ago\n",
            "https://apnews.com/article/elon-musk-x-election-voting-trump-misinformation-3479f2348f6ec47ce641ddf20fd6ce4e\n",
            "Elon Musk has often inflamed politically tense moments raising worries for the US election\n",
            "As Election Day draws nearer social media posts by X owner Elon Musk are raising concerns that he will use his immense platform to question the legitimacy..\n",
            "1 month ago\n",
            "https://www.reuters.com/world/us/trump-adopt-musks-proposal-government-efficiency-commission-wsj-reports-2024-09-05/\n",
            "Trump says he will tap Musk to lead government efficiency commission if elected\n",
            "NEW YORK Sept 5 (Reuters) - Republican presidential candidate Donald Trump said on Thursday he would establish a government efficiency commission headed by..\n",
            "2 months ago\n",
            "https://www.theatlantic.com/books/archive/2024/10/donald-trump-is-elon-musks-trojan-horse/680309/\n",
            "What Elon Musk Really Wants\n",
            "In Elon Musk's vision of human history Donald Trump is the singularity. If Musk can propel Trump back to the White House it will mark the moment that his own..\n",
            "4 weeks ago\n",
            "https://www.nytimes.com/2024/11/13/us/politics/musk-trump-transition-mar-a-lago.html\n",
            "At Mar-a-Lago ‘Uncle’ Elon Musk Puts His Imprint on the Trump Transition\n",
            "He's on the patio. He's on the golf course. Everywhere Donald Trump looks there is the world's richest man\n",
            "1 day ago\n",
            "https://www.cnn.com/2024/10/23/politics/elon-musk-justice-department-letter/index.html\n",
            "Justice Department warns Elon Musk that his $1 million giveaway to registered voters may be illegal\n",
            "The Justice Department warned Elon Musk's America PAC in recent days that his $1 million sweepstakes to registered voters in swing states may violate..\n",
            "3 weeks ago\n",
            "https://www.npr.org/2024/10/16/g-s1-28591/elon-musk-donald-trump-america-pac-fec\n",
            "Elon Musk has given $75 million so far to put Donald Trump back in the White House\n",
            "Elon Musk is among the largest financial supporters of Donald Trump's reelection efforts new FEC filings show. He and two other megadonors collectively..\n",
            "1 month ago\n",
            "https://www.nbcnews.com/tech/tech-news/elon-musk-trump-endorses-pac-administration-cabinet-connection-rcna178549\n",
            "Elon Musk could be the biggest winner of a second Trump term\n",
            "Elon Musk could reap numerous benefits from a friendly government run by Donald Trump\n",
            "1 week ago\n",
            "https://www.cnn.com/2024/11/06/business/elon-musk-election-bet/index.html\n",
            "Elon Musk bet big on Trump. Here’s what he stands to gain — and lose — from his win\n",
            "No single business leader did more to support former President Donald Trump's candidacy than Elon Musk. But the billionaire and his business empire face..\n",
            "1 week ago\n",
            "https://www.npr.org/2024/10/22/nx-s1-5156184/elon-musk-trump-election-x-twitter\n",
            "2 years in Trump surrogate Elon Musk has remade X as a conservative megaphone\n",
            "It's been nearly two years since Elon Musk bought Twitter and turned it into X. He has turned the platform into a megaphone for himself and increasingly..\n",
            "3 weeks ago\n",
            "https://www.cnn.com/2024/11/10/politics/musk-trump-influence-transition/index.html\n",
            "Elon Musk exerts deepening influence on Donald Trump’s presidential transition\n",
            "Donald Trump's Mar-a-Lago club has been brimming in the last 48 hours with two kinds of people: those angling for a job in the president-elect's incoming..\n",
            "3 days ago\n",
            "https://www.cnn.com/2024/08/13/tech/elon-musk-donald-trump-x/index.html\n",
            "How Elon Musk has turned X into a pro-Trump machine\n",
            "Nearly two years after Elon Musk bought Twitter and turned it into X the billionaire is leveraging its power as a source of real-time news for millions of..\n",
            "3 months ago\n",
            "https://www.cnn.com/2024/10/17/media/elon-musk-dominion-voting-misinformation/index.html\n",
            "Elon Musk peddles debunked 2020 election conspiracies at first solo town hall supporting Trump\n",
            "Elon Musk promoted several debunked conspiracy theories about the 2020 election during his first solo town hall Thursday in Pennsylvania as he urged voters..\n",
            "1 month ago\n",
            "https://www.nytimes.com/2024/10/20/us/politics/elon-musk-federal-agencies-contracts.html\n",
            "U.S. Agencies Fund and Fight With Elon Musk. A Trump Presidency Could Give Him Power Over Them.\n",
            "Musk's multipronged business arrangements with the federal government as well as the violations fines consent decrees and other inquiries federal agencies..\n",
            "3 weeks ago\n",
            "https://www.nbcnews.com/tech/tech-news/elon-musk-trump-donald-mar-a-lago-appointment-position-rcna179826\n",
            "Elon Musk may already be overstaying his welcome in Trump's orbit\n",
            "Sources said that Musk's near-constant presence at Mar-a-Lago in the week since Election Day had begun to wear on people who've been in Trump's inner..\n",
            "1 day ago\n",
            "https://www.cnn.com/2024/10/20/politics/elon-musk-voter-giveaway-legal-questions/index.html\n",
            "Elon Musk’s daily $1 million giveaway to registered voters could be illegal experts say\n",
            "While stumping for former President Donald Trump on Saturday tech billionaire Elon Musk announced that he will give away $1 million each day to registered..\n",
            "3 weeks ago\n",
            "https://www.theguardian.com/media/2024/nov/13/why-the-guardian-is-no-longer-posting-on-x\n",
            "Why the Guardian is no longer posting on X\n",
            "We will stop posting from our official editorial accounts on the platform but X users can still share our articles\n",
            "1 day ago\n",
            "https://www.washingtonpost.com/business/2024/10/29/elon-musk-2-trillion-budget-cuts-trump-election/\n",
            "Musk’s plan to cut $2 trillion in U.S. spending could bring economic turmoil\n",
            "Deep budget cuts would be required to meet the billionaire Trump supporter's goal. He appeared to acknowledge some risks on Tuesday. 7 min. Elon Musk at..\n",
            "2 weeks ago\n",
            "https://www.wsj.com/politics/elections/elon-musk-has-said-he-is-committing-around-45-million-a-month-to-a-new-pro-trump-super-pac-dda53823\n",
            "Exclusive | Elon Musk Has Said He Is Committing Around $45 Million a Month to a New Pro-Trump Super PAC\n",
            "Other backers of America PAC include Palantir Technologies co-founder Joe Lonsdale and the Winklevoss twins ... Elon Musk has said he plans to commit around $45..\n",
            "3 months ago\n",
            "https://www.npr.org/2024/07/24/nx-s1-5049715/elon-musk-donald-trump-tesla\n",
            "Elon Musk is backing Donald Trump. Could that hurt Tesla?\n",
            "Tesla CEO Elon Musk applauds as Israeli Prime..\n",
            "3 months ago\n",
            "https://www.pbs.org/newshour/show/whats-behind-elon-musks-massive-effort-to-elect-trump\n",
            "What's behind Elon Musk's massive effort to elect Trump\n",
            "The world's richest man Elon Musk is now a powerful mega donor for Donald Trump. Musk is using his vast resources to campaign for him in Pennsylvania and..\n",
            "3 weeks ago\n",
            "https://apnews.com/article/elon-musk-x-election-voting-trump-misinformation-3479f2348f6ec47ce641ddf20fd6ce4e\n",
            "Elon Musk has often inflamed politically tense moments raising worries for the US election\n",
            "As Election Day draws nearer social media posts by X owner Elon Musk are raising concerns that he will use his immense platform to question the legitimacy..\n",
            "1 month ago\n",
            "https://www.reuters.com/world/us/trump-adopt-musks-proposal-government-efficiency-commission-wsj-reports-2024-09-05/\n",
            "Trump says he will tap Musk to lead government efficiency commission if elected\n",
            "NEW YORK Sept 5 (Reuters) - Republican presidential candidate Donald Trump said on Thursday he would establish a government efficiency commission headed by..\n",
            "2 months ago\n"
          ]
        },
        {
          "output_type": "error",
          "ename": "KeyboardInterrupt",
          "evalue": "",
          "traceback": [
            "\u001b[0;31m---------------------------------------------------------------------------\u001b[0m",
            "\u001b[0;31mKeyboardInterrupt\u001b[0m                         Traceback (most recent call last)",
            "\u001b[0;32m<ipython-input-9-1b00ea34a48d>\u001b[0m in \u001b[0;36m<cell line: 63>\u001b[0;34m()\u001b[0m\n\u001b[1;32m     61\u001b[0m     \u001b[0;32melse\u001b[0m\u001b[0;34m:\u001b[0m\u001b[0;34m\u001b[0m\u001b[0;34m\u001b[0m\u001b[0m\n\u001b[1;32m     62\u001b[0m       \u001b[0;32mraise\u001b[0m\u001b[0;34m\u001b[0m\u001b[0;34m\u001b[0m\u001b[0m\n\u001b[0;32m---> 63\u001b[0;31m \u001b[0mnews\u001b[0m\u001b[0;34m(\u001b[0m\u001b[0mlink\u001b[0m\u001b[0;34m)\u001b[0m\u001b[0;34m\u001b[0m\u001b[0;34m\u001b[0m\u001b[0m\n\u001b[0m",
            "\u001b[0;32m<ipython-input-9-1b00ea34a48d>\u001b[0m in \u001b[0;36mnews\u001b[0;34m(link)\u001b[0m\n\u001b[1;32m     53\u001b[0m       \u001b[0mnext\u001b[0m \u001b[0;34m=\u001b[0m \u001b[0;34m(\u001b[0m\u001b[0mnext\u001b[0m\u001b[0;34m[\u001b[0m\u001b[0;34m'href'\u001b[0m\u001b[0;34m]\u001b[0m\u001b[0;34m)\u001b[0m\u001b[0;34m\u001b[0m\u001b[0;34m\u001b[0m\u001b[0m\n\u001b[1;32m     54\u001b[0m       \u001b[0mlink\u001b[0m \u001b[0;34m=\u001b[0m \u001b[0mroot\u001b[0m\u001b[0;34m+\u001b[0m\u001b[0mnext\u001b[0m\u001b[0;34m\u001b[0m\u001b[0;34m\u001b[0m\u001b[0m\n\u001b[0;32m---> 55\u001b[0;31m       \u001b[0mnews\u001b[0m\u001b[0;34m(\u001b[0m\u001b[0mlink\u001b[0m\u001b[0;34m)\u001b[0m\u001b[0;34m\u001b[0m\u001b[0;34m\u001b[0m\u001b[0m\n\u001b[0m\u001b[1;32m     56\u001b[0m   \u001b[0;32mexcept\u001b[0m \u001b[0mHTTPError\u001b[0m \u001b[0;32mas\u001b[0m \u001b[0me\u001b[0m\u001b[0;34m:\u001b[0m\u001b[0;34m\u001b[0m\u001b[0;34m\u001b[0m\u001b[0m\n\u001b[1;32m     57\u001b[0m     \u001b[0;32mif\u001b[0m \u001b[0me\u001b[0m\u001b[0;34m.\u001b[0m\u001b[0mcode\u001b[0m \u001b[0;34m==\u001b[0m \u001b[0;36m429\u001b[0m\u001b[0;34m:\u001b[0m\u001b[0;34m\u001b[0m\u001b[0;34m\u001b[0m\u001b[0m\n",
            "\u001b[0;32m<ipython-input-9-1b00ea34a48d>\u001b[0m in \u001b[0;36mnews\u001b[0;34m(link)\u001b[0m\n\u001b[1;32m     53\u001b[0m       \u001b[0mnext\u001b[0m \u001b[0;34m=\u001b[0m \u001b[0;34m(\u001b[0m\u001b[0mnext\u001b[0m\u001b[0;34m[\u001b[0m\u001b[0;34m'href'\u001b[0m\u001b[0;34m]\u001b[0m\u001b[0;34m)\u001b[0m\u001b[0;34m\u001b[0m\u001b[0;34m\u001b[0m\u001b[0m\n\u001b[1;32m     54\u001b[0m       \u001b[0mlink\u001b[0m \u001b[0;34m=\u001b[0m \u001b[0mroot\u001b[0m\u001b[0;34m+\u001b[0m\u001b[0mnext\u001b[0m\u001b[0;34m\u001b[0m\u001b[0;34m\u001b[0m\u001b[0m\n\u001b[0;32m---> 55\u001b[0;31m       \u001b[0mnews\u001b[0m\u001b[0;34m(\u001b[0m\u001b[0mlink\u001b[0m\u001b[0;34m)\u001b[0m\u001b[0;34m\u001b[0m\u001b[0;34m\u001b[0m\u001b[0m\n\u001b[0m\u001b[1;32m     56\u001b[0m   \u001b[0;32mexcept\u001b[0m \u001b[0mHTTPError\u001b[0m \u001b[0;32mas\u001b[0m \u001b[0me\u001b[0m\u001b[0;34m:\u001b[0m\u001b[0;34m\u001b[0m\u001b[0;34m\u001b[0m\u001b[0m\n\u001b[1;32m     57\u001b[0m     \u001b[0;32mif\u001b[0m \u001b[0me\u001b[0m\u001b[0;34m.\u001b[0m\u001b[0mcode\u001b[0m \u001b[0;34m==\u001b[0m \u001b[0;36m429\u001b[0m\u001b[0;34m:\u001b[0m\u001b[0;34m\u001b[0m\u001b[0;34m\u001b[0m\u001b[0m\n",
            "\u001b[0;32m<ipython-input-9-1b00ea34a48d>\u001b[0m in \u001b[0;36mnews\u001b[0;34m(link)\u001b[0m\n\u001b[1;32m     53\u001b[0m       \u001b[0mnext\u001b[0m \u001b[0;34m=\u001b[0m \u001b[0;34m(\u001b[0m\u001b[0mnext\u001b[0m\u001b[0;34m[\u001b[0m\u001b[0;34m'href'\u001b[0m\u001b[0;34m]\u001b[0m\u001b[0;34m)\u001b[0m\u001b[0;34m\u001b[0m\u001b[0;34m\u001b[0m\u001b[0m\n\u001b[1;32m     54\u001b[0m       \u001b[0mlink\u001b[0m \u001b[0;34m=\u001b[0m \u001b[0mroot\u001b[0m\u001b[0;34m+\u001b[0m\u001b[0mnext\u001b[0m\u001b[0;34m\u001b[0m\u001b[0;34m\u001b[0m\u001b[0m\n\u001b[0;32m---> 55\u001b[0;31m       \u001b[0mnews\u001b[0m\u001b[0;34m(\u001b[0m\u001b[0mlink\u001b[0m\u001b[0;34m)\u001b[0m\u001b[0;34m\u001b[0m\u001b[0;34m\u001b[0m\u001b[0m\n\u001b[0m\u001b[1;32m     56\u001b[0m   \u001b[0;32mexcept\u001b[0m \u001b[0mHTTPError\u001b[0m \u001b[0;32mas\u001b[0m \u001b[0me\u001b[0m\u001b[0;34m:\u001b[0m\u001b[0;34m\u001b[0m\u001b[0;34m\u001b[0m\u001b[0m\n\u001b[1;32m     57\u001b[0m     \u001b[0;32mif\u001b[0m \u001b[0me\u001b[0m\u001b[0;34m.\u001b[0m\u001b[0mcode\u001b[0m \u001b[0;34m==\u001b[0m \u001b[0;36m429\u001b[0m\u001b[0;34m:\u001b[0m\u001b[0;34m\u001b[0m\u001b[0;34m\u001b[0m\u001b[0m\n",
            "\u001b[0;32m<ipython-input-9-1b00ea34a48d>\u001b[0m in \u001b[0;36mnews\u001b[0;34m(link)\u001b[0m\n\u001b[1;32m     53\u001b[0m       \u001b[0mnext\u001b[0m \u001b[0;34m=\u001b[0m \u001b[0;34m(\u001b[0m\u001b[0mnext\u001b[0m\u001b[0;34m[\u001b[0m\u001b[0;34m'href'\u001b[0m\u001b[0;34m]\u001b[0m\u001b[0;34m)\u001b[0m\u001b[0;34m\u001b[0m\u001b[0;34m\u001b[0m\u001b[0m\n\u001b[1;32m     54\u001b[0m       \u001b[0mlink\u001b[0m \u001b[0;34m=\u001b[0m \u001b[0mroot\u001b[0m\u001b[0;34m+\u001b[0m\u001b[0mnext\u001b[0m\u001b[0;34m\u001b[0m\u001b[0;34m\u001b[0m\u001b[0m\n\u001b[0;32m---> 55\u001b[0;31m       \u001b[0mnews\u001b[0m\u001b[0;34m(\u001b[0m\u001b[0mlink\u001b[0m\u001b[0;34m)\u001b[0m\u001b[0;34m\u001b[0m\u001b[0;34m\u001b[0m\u001b[0m\n\u001b[0m\u001b[1;32m     56\u001b[0m   \u001b[0;32mexcept\u001b[0m \u001b[0mHTTPError\u001b[0m \u001b[0;32mas\u001b[0m \u001b[0me\u001b[0m\u001b[0;34m:\u001b[0m\u001b[0;34m\u001b[0m\u001b[0;34m\u001b[0m\u001b[0m\n\u001b[1;32m     57\u001b[0m     \u001b[0;32mif\u001b[0m \u001b[0me\u001b[0m\u001b[0;34m.\u001b[0m\u001b[0mcode\u001b[0m \u001b[0;34m==\u001b[0m \u001b[0;36m429\u001b[0m\u001b[0;34m:\u001b[0m\u001b[0;34m\u001b[0m\u001b[0;34m\u001b[0m\u001b[0m\n",
            "\u001b[0;32m<ipython-input-9-1b00ea34a48d>\u001b[0m in \u001b[0;36mnews\u001b[0;34m(link)\u001b[0m\n\u001b[1;32m     49\u001b[0m         \u001b[0mdocument\u001b[0m\u001b[0;34m.\u001b[0m\u001b[0mclose\u001b[0m\u001b[0;34m(\u001b[0m\u001b[0;34m)\u001b[0m\u001b[0;34m\u001b[0m\u001b[0;34m\u001b[0m\u001b[0m\n\u001b[1;32m     50\u001b[0m \u001b[0;34m\u001b[0m\u001b[0m\n\u001b[0;32m---> 51\u001b[0;31m       \u001b[0mtime\u001b[0m\u001b[0;34m.\u001b[0m\u001b[0msleep\u001b[0m\u001b[0;34m(\u001b[0m\u001b[0;36m2\u001b[0m\u001b[0;34m)\u001b[0m\u001b[0;34m\u001b[0m\u001b[0;34m\u001b[0m\u001b[0m\n\u001b[0m\u001b[1;32m     52\u001b[0m       \u001b[0mnext\u001b[0m \u001b[0;34m=\u001b[0m \u001b[0msoup\u001b[0m\u001b[0;34m.\u001b[0m\u001b[0mfind\u001b[0m\u001b[0;34m(\u001b[0m\u001b[0;34m'a'\u001b[0m\u001b[0;34m,\u001b[0m\u001b[0mattrs\u001b[0m\u001b[0;34m=\u001b[0m\u001b[0;34m{\u001b[0m\u001b[0;34m'class'\u001b[0m\u001b[0;34m:\u001b[0m\u001b[0;34m'nBDE1b G5eFlf'\u001b[0m\u001b[0;34m}\u001b[0m\u001b[0;34m)\u001b[0m\u001b[0;34m\u001b[0m\u001b[0;34m\u001b[0m\u001b[0m\n\u001b[1;32m     53\u001b[0m       \u001b[0mnext\u001b[0m \u001b[0;34m=\u001b[0m \u001b[0;34m(\u001b[0m\u001b[0mnext\u001b[0m\u001b[0;34m[\u001b[0m\u001b[0;34m'href'\u001b[0m\u001b[0;34m]\u001b[0m\u001b[0;34m)\u001b[0m\u001b[0;34m\u001b[0m\u001b[0;34m\u001b[0m\u001b[0m\n",
            "\u001b[0;31mKeyboardInterrupt\u001b[0m: "
          ]
        }
      ]
    }
  ]
}